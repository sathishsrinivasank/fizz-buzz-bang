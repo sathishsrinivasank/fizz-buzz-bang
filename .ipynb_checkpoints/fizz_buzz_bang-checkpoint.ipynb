{
 "cells": [
  {
   "cell_type": "markdown",
   "id": "f6a7214b",
   "metadata": {},
   "source": [
    "## Problem Fizz Buzz Bang\n",
    "\n",
    "### Background:\n",
    "\n",
    "Fizz Buzz is a counting game with a set of rules for replacing certain numbers with words. \n",
    "\n",
    "### Note:\n",
    "Conditional expressions are printed as output for each rule."
   ]
  },
  {
   "cell_type": "markdown",
   "id": "de75a805",
   "metadata": {},
   "source": [
    "### Create Functions in R"
   ]
  },
  {
   "cell_type": "code",
   "execution_count": 1,
   "id": "3849aa71",
   "metadata": {},
   "outputs": [],
   "source": [
    "#1.\n",
    "create_data = function(df, n){\n",
    "  for (i in n) {\n",
    "    # find modulus of number for the given vector\n",
    "    df = within(df, assign(paste0('V', i), df[, 1]%%i == 0))\n",
    "    # find string contains the given number\n",
    "    df = within(df, assign(paste0('Vg', i), grepl(i, df[, 1])))\n",
    "  }\n",
    "  return(df)\n",
    "}\n",
    "\n",
    "#2.\n",
    "or_and_expr = function(n){\n",
    "  my_expr = paste('(', \n",
    "                  paste(unlist( lapply(n, function(x) { \n",
    "                    paste('(df$V', x, ' | ', 'df$Vg', x, ')', sep  = '')\n",
    "                  })),\n",
    "                  collapse=\" & \" ),\n",
    "                  ')', \n",
    "                  sep = '')\n",
    "  return(my_expr)\n",
    "}\n",
    "\n",
    "#3.\n",
    "myfun = function(df, n, replace){\n",
    "  res_na = which(is.na(df$res))\n",
    "  my_expr = or_and_expr(n = n)\n",
    "  print(my_expr)\n",
    "  x = which(eval(parse(text=my_expr)))\n",
    "  x = intersect(res_na, x)\n",
    "  df$res[x] = replace\n",
    "  return(df)\n",
    "}\n",
    "\n",
    "#4.\n",
    "myfun2 = function(df, yes, no, replace) {\n",
    "  res_na = which(is.na(df$res))\n",
    "  yes_expr = or_and_expr(n = yes)\n",
    "  no_expr = paste('!', or_and_expr(n = no), sep = '')\n",
    "  yes_no_expr = paste(yes_expr, no_expr, sep = \" & \")\n",
    "  print(yes_expr)\n",
    "  print(no_expr)\n",
    "  print(yes_no_expr)\n",
    "  x = which(eval(parse(text=yes_no_expr)))\n",
    "  x = intersect(res_na, x)\n",
    "  df$res[x] = replace\n",
    "  return(df)\n",
    "}"
   ]
  },
  {
   "cell_type": "markdown",
   "id": "3b657394",
   "metadata": {},
   "source": [
    "### Rule 1:\n",
    "The simplest version would use just 1 rule. Suppose we start with this rule: If the number is divisible by 3 or contains a digit of 3, say \"Fizz\" instead of the number. For example, the output should look like this:\n",
    "\n",
    "1, 2, Fizz, 4, 5, Fizz, 7, 8, Fizz, 10, 11, Fizz, Fizz, 14, Fizz, 16, ...\n",
    "\n",
    "Using pseudocode or a programming language of your choice, write a program to output the first 100 numbers following the rule given above."
   ]
  },
  {
   "cell_type": "markdown",
   "id": "a27e9598",
   "metadata": {},
   "source": [
    "#### data setup"
   ]
  },
  {
   "cell_type": "code",
   "execution_count": 2,
   "id": "ab044643",
   "metadata": {},
   "outputs": [],
   "source": [
    "\n",
    "df1 = data.frame(vec = 1:100)\n",
    "df1 = create_data(df=df1, n=c(3))"
   ]
  },
  {
   "cell_type": "markdown",
   "id": "2ff09e53",
   "metadata": {},
   "source": [
    "#### Apply replacements"
   ]
  },
  {
   "cell_type": "code",
   "execution_count": 3,
   "id": "cd891fc9",
   "metadata": {},
   "outputs": [
    {
     "name": "stdout",
     "output_type": "stream",
     "text": [
      "[1] \"((df$V3 | df$Vg3))\"\n"
     ]
    }
   ],
   "source": [
    "#---------------------------------\n",
    "# 1. no matches\n",
    "#---------------------------------\n",
    "res = which(rowSums(df1[, -1]) == 0)\n",
    "df1$res = NA\n",
    "df1$res[res] = res\n",
    "#---------------------------------\n",
    "# 1 item.\n",
    "df1 = myfun(df = df1, n = c(3), replace = 'Fizz')\n",
    "#---------------------------------\n",
    "# check any missing values in df1$res\n",
    "stopifnot(!any(is.na(df1$res)))\n",
    "#---------------------------------"
   ]
  },
  {
   "cell_type": "code",
   "execution_count": 4,
   "id": "e6a46437",
   "metadata": {},
   "outputs": [
    {
     "data": {
      "image/png": "[encoded data removed]",
      "text/plain": [
       "plot without title"
      ]
     },
     "metadata": {
      "image/png": {
       "height": 420,
       "width": 420
      }
     },
     "output_type": "display_data"
    }
   ],
   "source": [
    "# Bar chart\n",
    "# data setup\n",
    "df2 = as.data.frame(table(df1$res[!grepl('[[:digit:]]', df1$res)]))\n",
    "df2 = rbind.data.frame(df2, \n",
    "                       data.frame(Var1 = 'no_matches', Freq = sum(grepl('[[:digit:]]', df1$res)))\n",
    "                       )\n",
    "# plot\n",
    "library(ggplot2)\n",
    "ggplot(data = df2, aes(x = Var1, y = Freq)) + \n",
    "  geom_bar(stat = 'identity') +\n",
    "  theme(axis.text.x = element_text(angle = 45, vjust = 1, hjust=1))"
   ]
  },
  {
   "cell_type": "code",
   "execution_count": 5,
   "id": "e03e47ca",
   "metadata": {},
   "outputs": [
    {
     "name": "stdout",
     "output_type": "stream",
     "text": [
      "    vec    V3   Vg3  res\n",
      "1     1 FALSE FALSE    1\n",
      "2     2 FALSE FALSE    2\n",
      "3     3  TRUE  TRUE Fizz\n",
      "4     4 FALSE FALSE    4\n",
      "5     5 FALSE FALSE    5\n",
      "6     6  TRUE FALSE Fizz\n",
      "7     7 FALSE FALSE    7\n",
      "8     8 FALSE FALSE    8\n",
      "9     9  TRUE FALSE Fizz\n",
      "10   10 FALSE FALSE   10\n",
      "11   11 FALSE FALSE   11\n",
      "12   12  TRUE FALSE Fizz\n",
      "13   13 FALSE  TRUE Fizz\n",
      "14   14 FALSE FALSE   14\n",
      "15   15  TRUE FALSE Fizz\n",
      "16   16 FALSE FALSE   16\n",
      "17   17 FALSE FALSE   17\n",
      "18   18  TRUE FALSE Fizz\n",
      "19   19 FALSE FALSE   19\n",
      "20   20 FALSE FALSE   20\n",
      "21   21  TRUE FALSE Fizz\n",
      "22   22 FALSE FALSE   22\n",
      "23   23 FALSE  TRUE Fizz\n",
      "24   24  TRUE FALSE Fizz\n",
      "25   25 FALSE FALSE   25\n",
      "26   26 FALSE FALSE   26\n",
      "27   27  TRUE FALSE Fizz\n",
      "28   28 FALSE FALSE   28\n",
      "29   29 FALSE FALSE   29\n",
      "30   30  TRUE  TRUE Fizz\n",
      "31   31 FALSE  TRUE Fizz\n",
      "32   32 FALSE  TRUE Fizz\n",
      "33   33  TRUE  TRUE Fizz\n",
      "34   34 FALSE  TRUE Fizz\n",
      "35   35 FALSE  TRUE Fizz\n",
      "36   36  TRUE  TRUE Fizz\n",
      "37   37 FALSE  TRUE Fizz\n",
      "38   38 FALSE  TRUE Fizz\n",
      "39   39  TRUE  TRUE Fizz\n",
      "40   40 FALSE FALSE   40\n",
      "41   41 FALSE FALSE   41\n",
      "42   42  TRUE FALSE Fizz\n",
      "43   43 FALSE  TRUE Fizz\n",
      "44   44 FALSE FALSE   44\n",
      "45   45  TRUE FALSE Fizz\n",
      "46   46 FALSE FALSE   46\n",
      "47   47 FALSE FALSE   47\n",
      "48   48  TRUE FALSE Fizz\n",
      "49   49 FALSE FALSE   49\n",
      "50   50 FALSE FALSE   50\n",
      "51   51  TRUE FALSE Fizz\n",
      "52   52 FALSE FALSE   52\n",
      "53   53 FALSE  TRUE Fizz\n",
      "54   54  TRUE FALSE Fizz\n",
      "55   55 FALSE FALSE   55\n",
      "56   56 FALSE FALSE   56\n",
      "57   57  TRUE FALSE Fizz\n",
      "58   58 FALSE FALSE   58\n",
      "59   59 FALSE FALSE   59\n",
      "60   60  TRUE FALSE Fizz\n",
      "61   61 FALSE FALSE   61\n",
      "62   62 FALSE FALSE   62\n",
      "63   63  TRUE  TRUE Fizz\n",
      "64   64 FALSE FALSE   64\n",
      "65   65 FALSE FALSE   65\n",
      "66   66  TRUE FALSE Fizz\n",
      "67   67 FALSE FALSE   67\n",
      "68   68 FALSE FALSE   68\n",
      "69   69  TRUE FALSE Fizz\n",
      "70   70 FALSE FALSE   70\n",
      "71   71 FALSE FALSE   71\n",
      "72   72  TRUE FALSE Fizz\n",
      "73   73 FALSE  TRUE Fizz\n",
      "74   74 FALSE FALSE   74\n",
      "75   75  TRUE FALSE Fizz\n",
      "76   76 FALSE FALSE   76\n",
      "77   77 FALSE FALSE   77\n",
      "78   78  TRUE FALSE Fizz\n",
      "79   79 FALSE FALSE   79\n",
      "80   80 FALSE FALSE   80\n",
      "81   81  TRUE FALSE Fizz\n",
      "82   82 FALSE FALSE   82\n",
      "83   83 FALSE  TRUE Fizz\n",
      "84   84  TRUE FALSE Fizz\n",
      "85   85 FALSE FALSE   85\n",
      "86   86 FALSE FALSE   86\n",
      "87   87  TRUE FALSE Fizz\n",
      "88   88 FALSE FALSE   88\n",
      "89   89 FALSE FALSE   89\n",
      "90   90  TRUE FALSE Fizz\n",
      "91   91 FALSE FALSE   91\n",
      "92   92 FALSE FALSE   92\n",
      "93   93  TRUE  TRUE Fizz\n",
      "94   94 FALSE FALSE   94\n",
      "95   95 FALSE FALSE   95\n",
      "96   96  TRUE FALSE Fizz\n",
      "97   97 FALSE FALSE   97\n",
      "98   98 FALSE FALSE   98\n",
      "99   99  TRUE FALSE Fizz\n",
      "100 100 FALSE FALSE  100\n"
     ]
    }
   ],
   "source": [
    "# print data\n",
    "print(df1)"
   ]
  },
  {
   "cell_type": "markdown",
   "id": "b585a29f",
   "metadata": {},
   "source": [
    "### Rule 2.\n",
    "\n",
    "Now let's add an additional rule. If the number is divisible by 5 or contains a digit of 5, say \"Buzz\" instead of the number. Remember that if multiple rules apply, you must say the words associated with all rules that apply. Modify your program to follow both rules at the same time.\n",
    "\n",
    "1, 2, Fizz, 4, Buzz, Fizz, 7, 8, Fizz, Buzz, 11, Fizz, Fizz, 14, Fizz Buzz, 16, ..."
   ]
  },
  {
   "cell_type": "markdown",
   "id": "6563d358",
   "metadata": {},
   "source": [
    "#### data setup"
   ]
  },
  {
   "cell_type": "code",
   "execution_count": 6,
   "id": "aaabace8",
   "metadata": {},
   "outputs": [],
   "source": [
    "\n",
    "df1 = data.frame(vec = 1:100)\n",
    "df1 = create_data(df=df1, n=c(3,5))"
   ]
  },
  {
   "cell_type": "markdown",
   "id": "91505bd8",
   "metadata": {},
   "source": [
    "#### Apply replacements"
   ]
  },
  {
   "cell_type": "code",
   "execution_count": 7,
   "id": "e2b58fd7",
   "metadata": {},
   "outputs": [
    {
     "name": "stdout",
     "output_type": "stream",
     "text": [
      "[1] \"((df$V3 | df$Vg3) & (df$V5 | df$Vg5))\"\n",
      "[1] \"((df$V3 | df$Vg3))\"\n",
      "[1] \"!((df$V5 | df$Vg5))\"\n",
      "[1] \"((df$V3 | df$Vg3)) & !((df$V5 | df$Vg5))\"\n",
      "[1] \"((df$V5 | df$Vg5))\"\n",
      "[1] \"!((df$V3 | df$Vg3))\"\n",
      "[1] \"((df$V5 | df$Vg5)) & !((df$V3 | df$Vg3))\"\n"
     ]
    }
   ],
   "source": [
    "# 1. no matches\n",
    "#---------------------------------\n",
    "res = which(rowSums(df1[, -1]) == 0)\n",
    "df1$res = NA\n",
    "df1$res[res] = res\n",
    "#---------------------------------\n",
    "#2 items\n",
    "df1 = myfun(df = df1, n = c(3,5), replace = 'Fizz Buzz')\n",
    "#---------------------------------\n",
    "#1 item\n",
    "df1 = myfun2(df = df1, yes = c(3), no = c(5), replace = 'Fizz')\n",
    "df1 = myfun2(df = df1, yes = c(5), no = c(3), replace = 'Buzz')\n",
    "# check any missing values in df1$res\n",
    "stopifnot(!any(is.na(df1$res)))"
   ]
  },
  {
   "cell_type": "code",
   "execution_count": 8,
   "id": "fa7fe357",
   "metadata": {},
   "outputs": [
    {
     "data": {
      "image/png": "[encoded data removed]",
      "text/plain": [
       "plot without title"
      ]
     },
     "metadata": {
      "image/png": {
       "height": 420,
       "width": 420
      }
     },
     "output_type": "display_data"
    }
   ],
   "source": [
    "# Bar chart\n",
    "# data setup\n",
    "df2 = as.data.frame(table(df1$res[!grepl('[[:digit:]]', df1$res)]))\n",
    "df2 = rbind.data.frame(df2, \n",
    "                       data.frame(Var1 = 'no_matches', Freq = sum(grepl('[[:digit:]]', df1$res)))\n",
    "                       )\n",
    "# plot\n",
    "library(ggplot2)\n",
    "ggplot(data = df2, aes(x = Var1, y = Freq)) + \n",
    "  geom_bar(stat = 'identity') +\n",
    "  theme(axis.text.x = element_text(angle = 45, vjust = 1, hjust=1))"
   ]
  },
  {
   "cell_type": "code",
   "execution_count": 9,
   "id": "a779d550",
   "metadata": {},
   "outputs": [
    {
     "name": "stdout",
     "output_type": "stream",
     "text": [
      "    vec    V3   Vg3    V5   Vg5       res\n",
      "1     1 FALSE FALSE FALSE FALSE         1\n",
      "2     2 FALSE FALSE FALSE FALSE         2\n",
      "3     3  TRUE  TRUE FALSE FALSE      Fizz\n",
      "4     4 FALSE FALSE FALSE FALSE         4\n",
      "5     5 FALSE FALSE  TRUE  TRUE      Buzz\n",
      "6     6  TRUE FALSE FALSE FALSE      Fizz\n",
      "7     7 FALSE FALSE FALSE FALSE         7\n",
      "8     8 FALSE FALSE FALSE FALSE         8\n",
      "9     9  TRUE FALSE FALSE FALSE      Fizz\n",
      "10   10 FALSE FALSE  TRUE FALSE      Buzz\n",
      "11   11 FALSE FALSE FALSE FALSE        11\n",
      "12   12  TRUE FALSE FALSE FALSE      Fizz\n",
      "13   13 FALSE  TRUE FALSE FALSE      Fizz\n",
      "14   14 FALSE FALSE FALSE FALSE        14\n",
      "15   15  TRUE FALSE  TRUE  TRUE Fizz Buzz\n",
      "16   16 FALSE FALSE FALSE FALSE        16\n",
      "17   17 FALSE FALSE FALSE FALSE        17\n",
      "18   18  TRUE FALSE FALSE FALSE      Fizz\n",
      "19   19 FALSE FALSE FALSE FALSE        19\n",
      "20   20 FALSE FALSE  TRUE FALSE      Buzz\n",
      "21   21  TRUE FALSE FALSE FALSE      Fizz\n",
      "22   22 FALSE FALSE FALSE FALSE        22\n",
      "23   23 FALSE  TRUE FALSE FALSE      Fizz\n",
      "24   24  TRUE FALSE FALSE FALSE      Fizz\n",
      "25   25 FALSE FALSE  TRUE  TRUE      Buzz\n",
      "26   26 FALSE FALSE FALSE FALSE        26\n",
      "27   27  TRUE FALSE FALSE FALSE      Fizz\n",
      "28   28 FALSE FALSE FALSE FALSE        28\n",
      "29   29 FALSE FALSE FALSE FALSE        29\n",
      "30   30  TRUE  TRUE  TRUE FALSE Fizz Buzz\n",
      "31   31 FALSE  TRUE FALSE FALSE      Fizz\n",
      "32   32 FALSE  TRUE FALSE FALSE      Fizz\n",
      "33   33  TRUE  TRUE FALSE FALSE      Fizz\n",
      "34   34 FALSE  TRUE FALSE FALSE      Fizz\n",
      "35   35 FALSE  TRUE  TRUE  TRUE Fizz Buzz\n",
      "36   36  TRUE  TRUE FALSE FALSE      Fizz\n",
      "37   37 FALSE  TRUE FALSE FALSE      Fizz\n",
      "38   38 FALSE  TRUE FALSE FALSE      Fizz\n",
      "39   39  TRUE  TRUE FALSE FALSE      Fizz\n",
      "40   40 FALSE FALSE  TRUE FALSE      Buzz\n",
      "41   41 FALSE FALSE FALSE FALSE        41\n",
      "42   42  TRUE FALSE FALSE FALSE      Fizz\n",
      "43   43 FALSE  TRUE FALSE FALSE      Fizz\n",
      "44   44 FALSE FALSE FALSE FALSE        44\n",
      "45   45  TRUE FALSE  TRUE  TRUE Fizz Buzz\n",
      "46   46 FALSE FALSE FALSE FALSE        46\n",
      "47   47 FALSE FALSE FALSE FALSE        47\n",
      "48   48  TRUE FALSE FALSE FALSE      Fizz\n",
      "49   49 FALSE FALSE FALSE FALSE        49\n",
      "50   50 FALSE FALSE  TRUE  TRUE      Buzz\n",
      "51   51  TRUE FALSE FALSE  TRUE Fizz Buzz\n",
      "52   52 FALSE FALSE FALSE  TRUE      Buzz\n",
      "53   53 FALSE  TRUE FALSE  TRUE Fizz Buzz\n",
      "54   54  TRUE FALSE FALSE  TRUE Fizz Buzz\n",
      "55   55 FALSE FALSE  TRUE  TRUE      Buzz\n",
      "56   56 FALSE FALSE FALSE  TRUE      Buzz\n",
      "57   57  TRUE FALSE FALSE  TRUE Fizz Buzz\n",
      "58   58 FALSE FALSE FALSE  TRUE      Buzz\n",
      "59   59 FALSE FALSE FALSE  TRUE      Buzz\n",
      "60   60  TRUE FALSE  TRUE FALSE Fizz Buzz\n",
      "61   61 FALSE FALSE FALSE FALSE        61\n",
      "62   62 FALSE FALSE FALSE FALSE        62\n",
      "63   63  TRUE  TRUE FALSE FALSE      Fizz\n",
      "64   64 FALSE FALSE FALSE FALSE        64\n",
      "65   65 FALSE FALSE  TRUE  TRUE      Buzz\n",
      "66   66  TRUE FALSE FALSE FALSE      Fizz\n",
      "67   67 FALSE FALSE FALSE FALSE        67\n",
      "68   68 FALSE FALSE FALSE FALSE        68\n",
      "69   69  TRUE FALSE FALSE FALSE      Fizz\n",
      "70   70 FALSE FALSE  TRUE FALSE      Buzz\n",
      "71   71 FALSE FALSE FALSE FALSE        71\n",
      "72   72  TRUE FALSE FALSE FALSE      Fizz\n",
      "73   73 FALSE  TRUE FALSE FALSE      Fizz\n",
      "74   74 FALSE FALSE FALSE FALSE        74\n",
      "75   75  TRUE FALSE  TRUE  TRUE Fizz Buzz\n",
      "76   76 FALSE FALSE FALSE FALSE        76\n",
      "77   77 FALSE FALSE FALSE FALSE        77\n",
      "78   78  TRUE FALSE FALSE FALSE      Fizz\n",
      "79   79 FALSE FALSE FALSE FALSE        79\n",
      "80   80 FALSE FALSE  TRUE FALSE      Buzz\n",
      "81   81  TRUE FALSE FALSE FALSE      Fizz\n",
      "82   82 FALSE FALSE FALSE FALSE        82\n",
      "83   83 FALSE  TRUE FALSE FALSE      Fizz\n",
      "84   84  TRUE FALSE FALSE FALSE      Fizz\n",
      "85   85 FALSE FALSE  TRUE  TRUE      Buzz\n",
      "86   86 FALSE FALSE FALSE FALSE        86\n",
      "87   87  TRUE FALSE FALSE FALSE      Fizz\n",
      "88   88 FALSE FALSE FALSE FALSE        88\n",
      "89   89 FALSE FALSE FALSE FALSE        89\n",
      "90   90  TRUE FALSE  TRUE FALSE Fizz Buzz\n",
      "91   91 FALSE FALSE FALSE FALSE        91\n",
      "92   92 FALSE FALSE FALSE FALSE        92\n",
      "93   93  TRUE  TRUE FALSE FALSE      Fizz\n",
      "94   94 FALSE FALSE FALSE FALSE        94\n",
      "95   95 FALSE FALSE  TRUE  TRUE      Buzz\n",
      "96   96  TRUE FALSE FALSE FALSE      Fizz\n",
      "97   97 FALSE FALSE FALSE FALSE        97\n",
      "98   98 FALSE FALSE FALSE FALSE        98\n",
      "99   99  TRUE FALSE FALSE FALSE      Fizz\n",
      "100 100 FALSE FALSE  TRUE FALSE      Buzz\n"
     ]
    }
   ],
   "source": [
    "# print data\n",
    "print(df1)"
   ]
  },
  {
   "cell_type": "code",
   "execution_count": 10,
   "id": "547b37a0",
   "metadata": {},
   "outputs": [
    {
     "data": {
      "text/html": [
       "33"
      ],
      "text/latex": [
       "33"
      ],
      "text/markdown": [
       "33"
      ],
      "text/plain": [
       "[1] 33"
      ]
     },
     "metadata": {},
     "output_type": "display_data"
    },
    {
     "data": {
      "text/html": [
       "18"
      ],
      "text/latex": [
       "18"
      ],
      "text/markdown": [
       "18"
      ],
      "text/plain": [
       "[1] 18"
      ]
     },
     "metadata": {},
     "output_type": "display_data"
    }
   ],
   "source": [
    "#---------------------------------\n",
    "# unit - testing - identifying cases - Example shown here\n",
    "# only multiples of 3  \n",
    "sum((1:100)%%3 == 0)  # expect: 33\n",
    "# only multiples of 5\n",
    "sum((1:100)%%5 == 0) - 2  # expect: 18 (total 20, but 30, 35 has string 3 - so 20-2 = 18)"
   ]
  },
  {
   "cell_type": "markdown",
   "id": "ba4cfafb",
   "metadata": {},
   "source": [
    "### Rule 3.\n",
    "\n",
    "Now let's add an additional new rule. If the number is divisible by 4 or has a digit of 4, instead of saying the number, say \"Bang\". Modify your program to follow both rules at the same time.\n",
    "\n",
    "1, 2, Fizz, Bang, Buzz, Fizz, 7, Bang, Fizz, Buzz, 11, Fizz Bang, Fizz, Bang, Fizz Buzz, Bang, …\n"
   ]
  },
  {
   "cell_type": "markdown",
   "id": "8f3f2684",
   "metadata": {},
   "source": [
    "#### data setup"
   ]
  },
  {
   "cell_type": "code",
   "execution_count": 11,
   "id": "e06bd729",
   "metadata": {},
   "outputs": [],
   "source": [
    "\n",
    "df1 = data.frame(vec = 1:100)\n",
    "df1 = create_data(df=df1, n=c(3,4,5))"
   ]
  },
  {
   "cell_type": "markdown",
   "id": "787c7fc4",
   "metadata": {},
   "source": [
    "#### Apply replacements"
   ]
  },
  {
   "cell_type": "code",
   "execution_count": 12,
   "id": "0b0ec755",
   "metadata": {},
   "outputs": [
    {
     "name": "stdout",
     "output_type": "stream",
     "text": [
      "[1] \"((df$V3 | df$Vg3) & (df$V4 | df$Vg4) & (df$V5 | df$Vg5))\"\n",
      "[1] \"((df$V3 | df$Vg3) & (df$V5 | df$Vg5))\"\n",
      "[1] \"!((df$V4 | df$Vg4))\"\n",
      "[1] \"((df$V3 | df$Vg3) & (df$V5 | df$Vg5)) & !((df$V4 | df$Vg4))\"\n",
      "[1] \"((df$V3 | df$Vg3) & (df$V4 | df$Vg4))\"\n",
      "[1] \"!((df$V5 | df$Vg5))\"\n",
      "[1] \"((df$V3 | df$Vg3) & (df$V4 | df$Vg4)) & !((df$V5 | df$Vg5))\"\n",
      "[1] \"((df$V4 | df$Vg4) & (df$V5 | df$Vg5))\"\n",
      "[1] \"!((df$V3 | df$Vg3))\"\n",
      "[1] \"((df$V4 | df$Vg4) & (df$V5 | df$Vg5)) & !((df$V3 | df$Vg3))\"\n",
      "[1] \"((df$V3 | df$Vg3))\"\n",
      "[1] \"!((df$V4 | df$Vg4) & (df$V5 | df$Vg5))\"\n",
      "[1] \"((df$V3 | df$Vg3)) & !((df$V4 | df$Vg4) & (df$V5 | df$Vg5))\"\n",
      "[1] \"((df$V4 | df$Vg4))\"\n",
      "[1] \"!((df$V3 | df$Vg3) & (df$V5 | df$Vg5))\"\n",
      "[1] \"((df$V4 | df$Vg4)) & !((df$V3 | df$Vg3) & (df$V5 | df$Vg5))\"\n",
      "[1] \"((df$V5 | df$Vg5))\"\n",
      "[1] \"!((df$V3 | df$Vg3) & (df$V4 | df$Vg4))\"\n",
      "[1] \"((df$V5 | df$Vg5)) & !((df$V3 | df$Vg3) & (df$V4 | df$Vg4))\"\n"
     ]
    }
   ],
   "source": [
    "# 1. no matches\n",
    "#---------------------------------\n",
    "res = which(rowSums(df1[, -1]) == 0)\n",
    "df1$res = NA\n",
    "df1$res[res] = res\n",
    "#---------------------------------\n",
    "# 3 items\n",
    "df1 = myfun(df = df1, n = c(3,4,5), replace = 'Fizz Bang Buzz')\n",
    "#---------------------------------\n",
    "#2 items\n",
    "df1 = myfun2(df = df1, yes = c(3,5), no = c(4), replace = 'Fizz Buzz')\n",
    "df1 = myfun2(df = df1, yes = c(3,4), no = c(5), replace = 'Fizz Bang')\n",
    "df1 = myfun2(df = df1, yes = c(4,5), no = c(3), replace = 'Bang Buzz')\n",
    "#---------------------------------\n",
    "# 1 item\n",
    "df1 = myfun2(df = df1, yes = c(3), no = c(4,5), replace = 'Fizz')\n",
    "df1 = myfun2(df = df1, yes = c(4), no = c(3,5), replace = 'Bang')\n",
    "df1 = myfun2(df = df1, yes = c(5), no = c(3,4), replace = 'Buzz')\n",
    "#---------------------------------\n",
    "# check any missing values in df1$res\n",
    "stopifnot(!any(is.na(df1$res)))"
   ]
  },
  {
   "cell_type": "code",
   "execution_count": 13,
   "id": "e41ab99d",
   "metadata": {},
   "outputs": [
    {
     "data": {
      "image/png": "[encoded data removed]",
      "text/plain": [
       "plot without title"
      ]
     },
     "metadata": {
      "image/png": {
       "height": 420,
       "width": 420
      }
     },
     "output_type": "display_data"
    }
   ],
   "source": [
    "# Bar chart\n",
    "# data setup\n",
    "df2 = as.data.frame(table(df1$res[!grepl('[[:digit:]]', df1$res)]))\n",
    "df2 = rbind.data.frame(df2, \n",
    "                       data.frame(Var1 = 'no_matches', Freq = sum(grepl('[[:digit:]]', df1$res)))\n",
    "                       )\n",
    "# plot\n",
    "library(ggplot2)\n",
    "ggplot(data = df2, aes(x = Var1, y = Freq)) + \n",
    "  geom_bar(stat = 'identity') +\n",
    "  theme(axis.text.x = element_text(angle = 45, vjust = 1, hjust=1))"
   ]
  },
  {
   "cell_type": "code",
   "execution_count": 14,
   "id": "e8637515",
   "metadata": {},
   "outputs": [
    {
     "name": "stdout",
     "output_type": "stream",
     "text": [
      "    vec    V3   Vg3    V4   Vg4    V5   Vg5            res\n",
      "1     1 FALSE FALSE FALSE FALSE FALSE FALSE              1\n",
      "2     2 FALSE FALSE FALSE FALSE FALSE FALSE              2\n",
      "3     3  TRUE  TRUE FALSE FALSE FALSE FALSE           Fizz\n",
      "4     4 FALSE FALSE  TRUE  TRUE FALSE FALSE           Bang\n",
      "5     5 FALSE FALSE FALSE FALSE  TRUE  TRUE           Buzz\n",
      "6     6  TRUE FALSE FALSE FALSE FALSE FALSE           Fizz\n",
      "7     7 FALSE FALSE FALSE FALSE FALSE FALSE              7\n",
      "8     8 FALSE FALSE  TRUE FALSE FALSE FALSE           Bang\n",
      "9     9  TRUE FALSE FALSE FALSE FALSE FALSE           Fizz\n",
      "10   10 FALSE FALSE FALSE FALSE  TRUE FALSE           Buzz\n",
      "11   11 FALSE FALSE FALSE FALSE FALSE FALSE             11\n",
      "12   12  TRUE FALSE  TRUE FALSE FALSE FALSE      Fizz Bang\n",
      "13   13 FALSE  TRUE FALSE FALSE FALSE FALSE           Fizz\n",
      "14   14 FALSE FALSE FALSE  TRUE FALSE FALSE           Bang\n",
      "15   15  TRUE FALSE FALSE FALSE  TRUE  TRUE      Fizz Buzz\n",
      "16   16 FALSE FALSE  TRUE FALSE FALSE FALSE           Bang\n",
      "17   17 FALSE FALSE FALSE FALSE FALSE FALSE             17\n",
      "18   18  TRUE FALSE FALSE FALSE FALSE FALSE           Fizz\n",
      "19   19 FALSE FALSE FALSE FALSE FALSE FALSE             19\n",
      "20   20 FALSE FALSE  TRUE FALSE  TRUE FALSE      Bang Buzz\n",
      "21   21  TRUE FALSE FALSE FALSE FALSE FALSE           Fizz\n",
      "22   22 FALSE FALSE FALSE FALSE FALSE FALSE             22\n",
      "23   23 FALSE  TRUE FALSE FALSE FALSE FALSE           Fizz\n",
      "24   24  TRUE FALSE  TRUE  TRUE FALSE FALSE      Fizz Bang\n",
      "25   25 FALSE FALSE FALSE FALSE  TRUE  TRUE           Buzz\n",
      "26   26 FALSE FALSE FALSE FALSE FALSE FALSE             26\n",
      "27   27  TRUE FALSE FALSE FALSE FALSE FALSE           Fizz\n",
      "28   28 FALSE FALSE  TRUE FALSE FALSE FALSE           Bang\n",
      "29   29 FALSE FALSE FALSE FALSE FALSE FALSE             29\n",
      "30   30  TRUE  TRUE FALSE FALSE  TRUE FALSE      Fizz Buzz\n",
      "31   31 FALSE  TRUE FALSE FALSE FALSE FALSE           Fizz\n",
      "32   32 FALSE  TRUE  TRUE FALSE FALSE FALSE      Fizz Bang\n",
      "33   33  TRUE  TRUE FALSE FALSE FALSE FALSE           Fizz\n",
      "34   34 FALSE  TRUE FALSE  TRUE FALSE FALSE      Fizz Bang\n",
      "35   35 FALSE  TRUE FALSE FALSE  TRUE  TRUE      Fizz Buzz\n",
      "36   36  TRUE  TRUE  TRUE FALSE FALSE FALSE      Fizz Bang\n",
      "37   37 FALSE  TRUE FALSE FALSE FALSE FALSE           Fizz\n",
      "38   38 FALSE  TRUE FALSE FALSE FALSE FALSE           Fizz\n",
      "39   39  TRUE  TRUE FALSE FALSE FALSE FALSE           Fizz\n",
      "40   40 FALSE FALSE  TRUE  TRUE  TRUE FALSE      Bang Buzz\n",
      "41   41 FALSE FALSE FALSE  TRUE FALSE FALSE           Bang\n",
      "42   42  TRUE FALSE FALSE  TRUE FALSE FALSE      Fizz Bang\n",
      "43   43 FALSE  TRUE FALSE  TRUE FALSE FALSE      Fizz Bang\n",
      "44   44 FALSE FALSE  TRUE  TRUE FALSE FALSE           Bang\n",
      "45   45  TRUE FALSE FALSE  TRUE  TRUE  TRUE Fizz Bang Buzz\n",
      "46   46 FALSE FALSE FALSE  TRUE FALSE FALSE           Bang\n",
      "47   47 FALSE FALSE FALSE  TRUE FALSE FALSE           Bang\n",
      "48   48  TRUE FALSE  TRUE  TRUE FALSE FALSE      Fizz Bang\n",
      "49   49 FALSE FALSE FALSE  TRUE FALSE FALSE           Bang\n",
      "50   50 FALSE FALSE FALSE FALSE  TRUE  TRUE           Buzz\n",
      "51   51  TRUE FALSE FALSE FALSE FALSE  TRUE      Fizz Buzz\n",
      "52   52 FALSE FALSE  TRUE FALSE FALSE  TRUE      Bang Buzz\n",
      "53   53 FALSE  TRUE FALSE FALSE FALSE  TRUE      Fizz Buzz\n",
      "54   54  TRUE FALSE FALSE  TRUE FALSE  TRUE Fizz Bang Buzz\n",
      "55   55 FALSE FALSE FALSE FALSE  TRUE  TRUE           Buzz\n",
      "56   56 FALSE FALSE  TRUE FALSE FALSE  TRUE      Bang Buzz\n",
      "57   57  TRUE FALSE FALSE FALSE FALSE  TRUE      Fizz Buzz\n",
      "58   58 FALSE FALSE FALSE FALSE FALSE  TRUE           Buzz\n",
      "59   59 FALSE FALSE FALSE FALSE FALSE  TRUE           Buzz\n",
      "60   60  TRUE FALSE  TRUE FALSE  TRUE FALSE Fizz Bang Buzz\n",
      "61   61 FALSE FALSE FALSE FALSE FALSE FALSE             61\n",
      "62   62 FALSE FALSE FALSE FALSE FALSE FALSE             62\n",
      "63   63  TRUE  TRUE FALSE FALSE FALSE FALSE           Fizz\n",
      "64   64 FALSE FALSE  TRUE  TRUE FALSE FALSE           Bang\n",
      "65   65 FALSE FALSE FALSE FALSE  TRUE  TRUE           Buzz\n",
      "66   66  TRUE FALSE FALSE FALSE FALSE FALSE           Fizz\n",
      "67   67 FALSE FALSE FALSE FALSE FALSE FALSE             67\n",
      "68   68 FALSE FALSE  TRUE FALSE FALSE FALSE           Bang\n",
      "69   69  TRUE FALSE FALSE FALSE FALSE FALSE           Fizz\n",
      "70   70 FALSE FALSE FALSE FALSE  TRUE FALSE           Buzz\n",
      "71   71 FALSE FALSE FALSE FALSE FALSE FALSE             71\n",
      "72   72  TRUE FALSE  TRUE FALSE FALSE FALSE      Fizz Bang\n",
      "73   73 FALSE  TRUE FALSE FALSE FALSE FALSE           Fizz\n",
      "74   74 FALSE FALSE FALSE  TRUE FALSE FALSE           Bang\n",
      "75   75  TRUE FALSE FALSE FALSE  TRUE  TRUE      Fizz Buzz\n",
      "76   76 FALSE FALSE  TRUE FALSE FALSE FALSE           Bang\n",
      "77   77 FALSE FALSE FALSE FALSE FALSE FALSE             77\n",
      "78   78  TRUE FALSE FALSE FALSE FALSE FALSE           Fizz\n",
      "79   79 FALSE FALSE FALSE FALSE FALSE FALSE             79\n",
      "80   80 FALSE FALSE  TRUE FALSE  TRUE FALSE      Bang Buzz\n",
      "81   81  TRUE FALSE FALSE FALSE FALSE FALSE           Fizz\n",
      "82   82 FALSE FALSE FALSE FALSE FALSE FALSE             82\n",
      "83   83 FALSE  TRUE FALSE FALSE FALSE FALSE           Fizz\n",
      "84   84  TRUE FALSE  TRUE  TRUE FALSE FALSE      Fizz Bang\n",
      "85   85 FALSE FALSE FALSE FALSE  TRUE  TRUE           Buzz\n",
      "86   86 FALSE FALSE FALSE FALSE FALSE FALSE             86\n",
      "87   87  TRUE FALSE FALSE FALSE FALSE FALSE           Fizz\n",
      "88   88 FALSE FALSE  TRUE FALSE FALSE FALSE           Bang\n",
      "89   89 FALSE FALSE FALSE FALSE FALSE FALSE             89\n",
      "90   90  TRUE FALSE FALSE FALSE  TRUE FALSE      Fizz Buzz\n",
      "91   91 FALSE FALSE FALSE FALSE FALSE FALSE             91\n",
      "92   92 FALSE FALSE  TRUE FALSE FALSE FALSE           Bang\n",
      "93   93  TRUE  TRUE FALSE FALSE FALSE FALSE           Fizz\n",
      "94   94 FALSE FALSE FALSE  TRUE FALSE FALSE           Bang\n",
      "95   95 FALSE FALSE FALSE FALSE  TRUE  TRUE           Buzz\n",
      "96   96  TRUE FALSE  TRUE FALSE FALSE FALSE      Fizz Bang\n",
      "97   97 FALSE FALSE FALSE FALSE FALSE FALSE             97\n",
      "98   98 FALSE FALSE FALSE FALSE FALSE FALSE             98\n",
      "99   99  TRUE FALSE FALSE FALSE FALSE FALSE           Fizz\n",
      "100 100 FALSE FALSE  TRUE FALSE  TRUE FALSE      Bang Buzz\n"
     ]
    }
   ],
   "source": [
    "# print data\n",
    "print(df1)"
   ]
  },
  {
   "cell_type": "markdown",
   "id": "06449a9b",
   "metadata": {},
   "source": [
    "### Rule 4.\n",
    "n = 3,4,5,7"
   ]
  },
  {
   "cell_type": "markdown",
   "id": "fea0004e",
   "metadata": {},
   "source": [
    "#### data setup"
   ]
  },
  {
   "cell_type": "code",
   "execution_count": 15,
   "id": "52bfc176",
   "metadata": {},
   "outputs": [],
   "source": [
    "\n",
    "df1 = data.frame(vec = 1:100)\n",
    "df1 = create_data(df=df1, n=c(3,4,5,7))"
   ]
  },
  {
   "cell_type": "code",
   "execution_count": 16,
   "id": "a58b8bbc",
   "metadata": {},
   "outputs": [
    {
     "name": "stdout",
     "output_type": "stream",
     "text": [
      "[1] \"((df$V3 | df$Vg3) & (df$V4 | df$Vg4) & (df$V5 | df$Vg5) & (df$V7 | df$Vg7))\"\n",
      "[1] \"((df$V3 | df$Vg3) & (df$V4 | df$Vg4) & (df$V5 | df$Vg5))\"\n",
      "[1] \"!((df$V7 | df$Vg7))\"\n",
      "[1] \"((df$V3 | df$Vg3) & (df$V4 | df$Vg4) & (df$V5 | df$Vg5)) & !((df$V7 | df$Vg7))\"\n",
      "[1] \"((df$V3 | df$Vg3) & (df$V4 | df$Vg4) & (df$V7 | df$Vg7))\"\n",
      "[1] \"!((df$V5 | df$Vg5))\"\n",
      "[1] \"((df$V3 | df$Vg3) & (df$V4 | df$Vg4) & (df$V7 | df$Vg7)) & !((df$V5 | df$Vg5))\"\n",
      "[1] \"((df$V4 | df$Vg4) & (df$V5 | df$Vg5) & (df$V7 | df$Vg7))\"\n",
      "[1] \"!((df$V3 | df$Vg3))\"\n",
      "[1] \"((df$V4 | df$Vg4) & (df$V5 | df$Vg5) & (df$V7 | df$Vg7)) & !((df$V3 | df$Vg3))\"\n",
      "[1] \"((df$V3 | df$Vg3) & (df$V5 | df$Vg5) & (df$V7 | df$Vg7))\"\n",
      "[1] \"!((df$V4 | df$Vg4))\"\n",
      "[1] \"((df$V3 | df$Vg3) & (df$V5 | df$Vg5) & (df$V7 | df$Vg7)) & !((df$V4 | df$Vg4))\"\n",
      "[1] \"((df$V3 | df$Vg3) & (df$V5 | df$Vg5))\"\n",
      "[1] \"!((df$V4 | df$Vg4) & (df$V7 | df$Vg7))\"\n",
      "[1] \"((df$V3 | df$Vg3) & (df$V5 | df$Vg5)) & !((df$V4 | df$Vg4) & (df$V7 | df$Vg7))\"\n",
      "[1] \"((df$V3 | df$Vg3) & (df$V4 | df$Vg4))\"\n",
      "[1] \"!((df$V5 | df$Vg5) & (df$V7 | df$Vg7))\"\n",
      "[1] \"((df$V3 | df$Vg3) & (df$V4 | df$Vg4)) & !((df$V5 | df$Vg5) & (df$V7 | df$Vg7))\"\n",
      "[1] \"((df$V3 | df$Vg3) & (df$V7 | df$Vg7))\"\n",
      "[1] \"!((df$V4 | df$Vg4) & (df$V5 | df$Vg5))\"\n",
      "[1] \"((df$V3 | df$Vg3) & (df$V7 | df$Vg7)) & !((df$V4 | df$Vg4) & (df$V5 | df$Vg5))\"\n",
      "[1] \"((df$V4 | df$Vg4) & (df$V5 | df$Vg5))\"\n",
      "[1] \"!((df$V3 | df$Vg3) & (df$V7 | df$Vg7))\"\n",
      "[1] \"((df$V4 | df$Vg4) & (df$V5 | df$Vg5)) & !((df$V3 | df$Vg3) & (df$V7 | df$Vg7))\"\n",
      "[1] \"((df$V4 | df$Vg4) & (df$V7 | df$Vg7))\"\n",
      "[1] \"!((df$V3 | df$Vg3) & (df$V5 | df$Vg5))\"\n",
      "[1] \"((df$V4 | df$Vg4) & (df$V7 | df$Vg7)) & !((df$V3 | df$Vg3) & (df$V5 | df$Vg5))\"\n",
      "[1] \"((df$V5 | df$Vg5) & (df$V7 | df$Vg7))\"\n",
      "[1] \"!((df$V3 | df$Vg3) & (df$V4 | df$Vg4))\"\n",
      "[1] \"((df$V5 | df$Vg5) & (df$V7 | df$Vg7)) & !((df$V3 | df$Vg3) & (df$V4 | df$Vg4))\"\n",
      "[1] \"((df$V3 | df$Vg3))\"\n",
      "[1] \"!((df$V4 | df$Vg4) & (df$V5 | df$Vg5) & (df$V7 | df$Vg7))\"\n",
      "[1] \"((df$V3 | df$Vg3)) & !((df$V4 | df$Vg4) & (df$V5 | df$Vg5) & (df$V7 | df$Vg7))\"\n",
      "[1] \"((df$V4 | df$Vg4))\"\n",
      "[1] \"!((df$V3 | df$Vg3) & (df$V5 | df$Vg5) & (df$V7 | df$Vg7))\"\n",
      "[1] \"((df$V4 | df$Vg4)) & !((df$V3 | df$Vg3) & (df$V5 | df$Vg5) & (df$V7 | df$Vg7))\"\n",
      "[1] \"((df$V5 | df$Vg5))\"\n",
      "[1] \"!((df$V3 | df$Vg3) & (df$V4 | df$Vg4) & (df$V7 | df$Vg7))\"\n",
      "[1] \"((df$V5 | df$Vg5)) & !((df$V3 | df$Vg3) & (df$V4 | df$Vg4) & (df$V7 | df$Vg7))\"\n",
      "[1] \"((df$V7 | df$Vg7))\"\n",
      "[1] \"!((df$V3 | df$Vg3) & (df$V4 | df$Vg4) & (df$V5 | df$Vg5))\"\n",
      "[1] \"((df$V7 | df$Vg7)) & !((df$V3 | df$Vg3) & (df$V4 | df$Vg4) & (df$V5 | df$Vg5))\"\n"
     ]
    }
   ],
   "source": [
    "# 1. no matches\n",
    "#---------------------------------\n",
    "res = which(rowSums(df1[, -1]) == 0)\n",
    "df1$res = NA\n",
    "df1$res[res] = res\n",
    "#---------------------------------\n",
    "# 4.\n",
    "#---------------------------------\n",
    "# (multiple of 3 or string 3) and (multiple of 4 or string 4) and (multiple of 5 or string 5)\n",
    "df1 = myfun(df = df1, n = c(3,4,5,7), replace = 'Fizz Bang Buzz Foo')\n",
    "#---------------------------------\n",
    "# 3. \n",
    "#---------------------------------\n",
    "df1 = myfun2(df = df1, yes = c(3,4,5), no = c(7), replace = 'Fizz Bang Buzz')\n",
    "df1 = myfun2(df = df1, yes = c(3,4,7), no = c(5), replace = 'Fizz Bang Foo')\n",
    "df1 = myfun2(df = df1, yes = c(4,5,7), no = c(3), replace = 'Bang Buzz Foo')\n",
    "df1 = myfun2(df = df1, yes = c(3,5,7), no = c(4), replace = 'Fizz Buzz Foo')\n",
    "\n",
    "#---------------------------------\n",
    "# 2. \n",
    "#---------------------------------\n",
    "# (multiple of 3 or string 3) and (multiple of 5 or string 5)\n",
    "df1 = myfun2(df = df1, yes = c(3,5), no = c(4,7), replace = 'Fizz Buzz')\n",
    "df1 = myfun2(df = df1, yes = c(3,4), no = c(5,7), replace = 'Fizz Bang')\n",
    "df1 = myfun2(df = df1, yes = c(3,7), no = c(4,5), replace = 'Fizz Foo')\n",
    "df1 = myfun2(df = df1, yes = c(4,5), no = c(3,7), replace = 'Bang Buzz')\n",
    "df1 = myfun2(df = df1, yes = c(4,7), no = c(3,5), replace = 'Bang Foo')\n",
    "df1 = myfun2(df = df1, yes = c(5,7), no = c(3,4), replace = 'Buzz Foo')\n",
    "\n",
    "\n",
    "#---------------------------------\n",
    "# 1.\n",
    "#---------------------------------\n",
    "df1 = myfun2(df = df1, yes = c(3), no = c(4,5,7), replace = 'Fizz')\n",
    "df1 = myfun2(df = df1, yes = c(4), no = c(3,5,7), replace = 'Bang')\n",
    "df1 = myfun2(df = df1, yes = c(5), no = c(3,4,7), replace = 'Buzz')\n",
    "df1 = myfun2(df = df1, yes = c(7), no = c(3,4,5), replace = 'Foo')\n",
    "\n",
    "#---------------------------------\n",
    "# check any missing values in df1$res\n",
    "stopifnot(!any(is.na(df1$res)))\n",
    "#---------------------------------"
   ]
  },
  {
   "cell_type": "code",
   "execution_count": 17,
   "id": "79ffbea7",
   "metadata": {},
   "outputs": [
    {
     "data": {
      "image/png": "[encoded data removed]",
      "text/plain": [
       "plot without title"
      ]
     },
     "metadata": {
      "image/png": {
       "height": 420,
       "width": 420
      }
     },
     "output_type": "display_data"
    }
   ],
   "source": [
    "# Bar chart\n",
    "# data setup\n",
    "df2 = as.data.frame(table(df1$res[!grepl('[[:digit:]]', df1$res)]))\n",
    "df2 = rbind.data.frame(df2, \n",
    "                       data.frame(Var1 = 'no_matches', Freq = sum(grepl('[[:digit:]]', df1$res)))\n",
    ")\n",
    "# plot\n",
    "library(ggplot2)\n",
    "ggplot(data = df2, aes(x = Var1, y = Freq)) + \n",
    "  geom_bar(stat = 'identity') +\n",
    "  theme(axis.text.x = element_text(angle = 45, vjust = 1, hjust=1))"
   ]
  },
  {
   "cell_type": "code",
   "execution_count": 18,
   "id": "0e92645e",
   "metadata": {},
   "outputs": [
    {
     "name": "stdout",
     "output_type": "stream",
     "text": [
      "    vec    V3   Vg3    V4   Vg4    V5   Vg5    V7   Vg7            res\n",
      "1     1 FALSE FALSE FALSE FALSE FALSE FALSE FALSE FALSE              1\n",
      "2     2 FALSE FALSE FALSE FALSE FALSE FALSE FALSE FALSE              2\n",
      "3     3  TRUE  TRUE FALSE FALSE FALSE FALSE FALSE FALSE           Fizz\n",
      "4     4 FALSE FALSE  TRUE  TRUE FALSE FALSE FALSE FALSE           Bang\n",
      "5     5 FALSE FALSE FALSE FALSE  TRUE  TRUE FALSE FALSE           Buzz\n",
      "6     6  TRUE FALSE FALSE FALSE FALSE FALSE FALSE FALSE           Fizz\n",
      "7     7 FALSE FALSE FALSE FALSE FALSE FALSE  TRUE  TRUE            Foo\n",
      "8     8 FALSE FALSE  TRUE FALSE FALSE FALSE FALSE FALSE           Bang\n",
      "9     9  TRUE FALSE FALSE FALSE FALSE FALSE FALSE FALSE           Fizz\n",
      "10   10 FALSE FALSE FALSE FALSE  TRUE FALSE FALSE FALSE           Buzz\n",
      "11   11 FALSE FALSE FALSE FALSE FALSE FALSE FALSE FALSE             11\n",
      "12   12  TRUE FALSE  TRUE FALSE FALSE FALSE FALSE FALSE      Fizz Bang\n",
      "13   13 FALSE  TRUE FALSE FALSE FALSE FALSE FALSE FALSE           Fizz\n",
      "14   14 FALSE FALSE FALSE  TRUE FALSE FALSE  TRUE FALSE       Bang Foo\n",
      "15   15  TRUE FALSE FALSE FALSE  TRUE  TRUE FALSE FALSE      Fizz Buzz\n",
      "16   16 FALSE FALSE  TRUE FALSE FALSE FALSE FALSE FALSE           Bang\n",
      "17   17 FALSE FALSE FALSE FALSE FALSE FALSE FALSE  TRUE            Foo\n",
      "18   18  TRUE FALSE FALSE FALSE FALSE FALSE FALSE FALSE           Fizz\n",
      "19   19 FALSE FALSE FALSE FALSE FALSE FALSE FALSE FALSE             19\n",
      "20   20 FALSE FALSE  TRUE FALSE  TRUE FALSE FALSE FALSE      Bang Buzz\n",
      "21   21  TRUE FALSE FALSE FALSE FALSE FALSE  TRUE FALSE       Fizz Foo\n",
      "22   22 FALSE FALSE FALSE FALSE FALSE FALSE FALSE FALSE             22\n",
      "23   23 FALSE  TRUE FALSE FALSE FALSE FALSE FALSE FALSE           Fizz\n",
      "24   24  TRUE FALSE  TRUE  TRUE FALSE FALSE FALSE FALSE      Fizz Bang\n",
      "25   25 FALSE FALSE FALSE FALSE  TRUE  TRUE FALSE FALSE           Buzz\n",
      "26   26 FALSE FALSE FALSE FALSE FALSE FALSE FALSE FALSE             26\n",
      "27   27  TRUE FALSE FALSE FALSE FALSE FALSE FALSE  TRUE       Fizz Foo\n",
      "28   28 FALSE FALSE  TRUE FALSE FALSE FALSE  TRUE FALSE       Bang Foo\n",
      "29   29 FALSE FALSE FALSE FALSE FALSE FALSE FALSE FALSE             29\n",
      "30   30  TRUE  TRUE FALSE FALSE  TRUE FALSE FALSE FALSE      Fizz Buzz\n",
      "31   31 FALSE  TRUE FALSE FALSE FALSE FALSE FALSE FALSE           Fizz\n",
      "32   32 FALSE  TRUE  TRUE FALSE FALSE FALSE FALSE FALSE      Fizz Bang\n",
      "33   33  TRUE  TRUE FALSE FALSE FALSE FALSE FALSE FALSE           Fizz\n",
      "34   34 FALSE  TRUE FALSE  TRUE FALSE FALSE FALSE FALSE      Fizz Bang\n",
      "35   35 FALSE  TRUE FALSE FALSE  TRUE  TRUE  TRUE FALSE  Fizz Buzz Foo\n",
      "36   36  TRUE  TRUE  TRUE FALSE FALSE FALSE FALSE FALSE      Fizz Bang\n",
      "37   37 FALSE  TRUE FALSE FALSE FALSE FALSE FALSE  TRUE       Fizz Foo\n",
      "38   38 FALSE  TRUE FALSE FALSE FALSE FALSE FALSE FALSE           Fizz\n",
      "39   39  TRUE  TRUE FALSE FALSE FALSE FALSE FALSE FALSE           Fizz\n",
      "40   40 FALSE FALSE  TRUE  TRUE  TRUE FALSE FALSE FALSE      Bang Buzz\n",
      "41   41 FALSE FALSE FALSE  TRUE FALSE FALSE FALSE FALSE           Bang\n",
      "42   42  TRUE FALSE FALSE  TRUE FALSE FALSE  TRUE FALSE  Fizz Bang Foo\n",
      "43   43 FALSE  TRUE FALSE  TRUE FALSE FALSE FALSE FALSE      Fizz Bang\n",
      "44   44 FALSE FALSE  TRUE  TRUE FALSE FALSE FALSE FALSE           Bang\n",
      "45   45  TRUE FALSE FALSE  TRUE  TRUE  TRUE FALSE FALSE Fizz Bang Buzz\n",
      "46   46 FALSE FALSE FALSE  TRUE FALSE FALSE FALSE FALSE           Bang\n",
      "47   47 FALSE FALSE FALSE  TRUE FALSE FALSE FALSE  TRUE       Bang Foo\n",
      "48   48  TRUE FALSE  TRUE  TRUE FALSE FALSE FALSE FALSE      Fizz Bang\n",
      "49   49 FALSE FALSE FALSE  TRUE FALSE FALSE  TRUE FALSE       Bang Foo\n",
      "50   50 FALSE FALSE FALSE FALSE  TRUE  TRUE FALSE FALSE           Buzz\n",
      "51   51  TRUE FALSE FALSE FALSE FALSE  TRUE FALSE FALSE      Fizz Buzz\n",
      "52   52 FALSE FALSE  TRUE FALSE FALSE  TRUE FALSE FALSE      Bang Buzz\n",
      "53   53 FALSE  TRUE FALSE FALSE FALSE  TRUE FALSE FALSE      Fizz Buzz\n",
      "54   54  TRUE FALSE FALSE  TRUE FALSE  TRUE FALSE FALSE Fizz Bang Buzz\n",
      "55   55 FALSE FALSE FALSE FALSE  TRUE  TRUE FALSE FALSE           Buzz\n",
      "56   56 FALSE FALSE  TRUE FALSE FALSE  TRUE  TRUE FALSE  Bang Buzz Foo\n",
      "57   57  TRUE FALSE FALSE FALSE FALSE  TRUE FALSE  TRUE  Fizz Buzz Foo\n",
      "58   58 FALSE FALSE FALSE FALSE FALSE  TRUE FALSE FALSE           Buzz\n",
      "59   59 FALSE FALSE FALSE FALSE FALSE  TRUE FALSE FALSE           Buzz\n",
      "60   60  TRUE FALSE  TRUE FALSE  TRUE FALSE FALSE FALSE Fizz Bang Buzz\n",
      "61   61 FALSE FALSE FALSE FALSE FALSE FALSE FALSE FALSE             61\n",
      "62   62 FALSE FALSE FALSE FALSE FALSE FALSE FALSE FALSE             62\n",
      "63   63  TRUE  TRUE FALSE FALSE FALSE FALSE  TRUE FALSE       Fizz Foo\n",
      "64   64 FALSE FALSE  TRUE  TRUE FALSE FALSE FALSE FALSE           Bang\n",
      "65   65 FALSE FALSE FALSE FALSE  TRUE  TRUE FALSE FALSE           Buzz\n",
      "66   66  TRUE FALSE FALSE FALSE FALSE FALSE FALSE FALSE           Fizz\n",
      "67   67 FALSE FALSE FALSE FALSE FALSE FALSE FALSE  TRUE            Foo\n",
      "68   68 FALSE FALSE  TRUE FALSE FALSE FALSE FALSE FALSE           Bang\n",
      "69   69  TRUE FALSE FALSE FALSE FALSE FALSE FALSE FALSE           Fizz\n",
      "70   70 FALSE FALSE FALSE FALSE  TRUE FALSE  TRUE  TRUE       Buzz Foo\n",
      "71   71 FALSE FALSE FALSE FALSE FALSE FALSE FALSE  TRUE            Foo\n",
      "72   72  TRUE FALSE  TRUE FALSE FALSE FALSE FALSE  TRUE  Fizz Bang Foo\n",
      "73   73 FALSE  TRUE FALSE FALSE FALSE FALSE FALSE  TRUE       Fizz Foo\n",
      "74   74 FALSE FALSE FALSE  TRUE FALSE FALSE FALSE  TRUE       Bang Foo\n",
      "75   75  TRUE FALSE FALSE FALSE  TRUE  TRUE FALSE  TRUE  Fizz Buzz Foo\n",
      "76   76 FALSE FALSE  TRUE FALSE FALSE FALSE FALSE  TRUE       Bang Foo\n",
      "77   77 FALSE FALSE FALSE FALSE FALSE FALSE  TRUE  TRUE            Foo\n",
      "78   78  TRUE FALSE FALSE FALSE FALSE FALSE FALSE  TRUE       Fizz Foo\n",
      "79   79 FALSE FALSE FALSE FALSE FALSE FALSE FALSE  TRUE            Foo\n",
      "80   80 FALSE FALSE  TRUE FALSE  TRUE FALSE FALSE FALSE      Bang Buzz\n",
      "81   81  TRUE FALSE FALSE FALSE FALSE FALSE FALSE FALSE           Fizz\n",
      "82   82 FALSE FALSE FALSE FALSE FALSE FALSE FALSE FALSE             82\n",
      "83   83 FALSE  TRUE FALSE FALSE FALSE FALSE FALSE FALSE           Fizz\n",
      "84   84  TRUE FALSE  TRUE  TRUE FALSE FALSE  TRUE FALSE  Fizz Bang Foo\n",
      "85   85 FALSE FALSE FALSE FALSE  TRUE  TRUE FALSE FALSE           Buzz\n",
      "86   86 FALSE FALSE FALSE FALSE FALSE FALSE FALSE FALSE             86\n",
      "87   87  TRUE FALSE FALSE FALSE FALSE FALSE FALSE  TRUE       Fizz Foo\n",
      "88   88 FALSE FALSE  TRUE FALSE FALSE FALSE FALSE FALSE           Bang\n",
      "89   89 FALSE FALSE FALSE FALSE FALSE FALSE FALSE FALSE             89\n",
      "90   90  TRUE FALSE FALSE FALSE  TRUE FALSE FALSE FALSE      Fizz Buzz\n",
      "91   91 FALSE FALSE FALSE FALSE FALSE FALSE  TRUE FALSE            Foo\n",
      "92   92 FALSE FALSE  TRUE FALSE FALSE FALSE FALSE FALSE           Bang\n",
      "93   93  TRUE  TRUE FALSE FALSE FALSE FALSE FALSE FALSE           Fizz\n",
      "94   94 FALSE FALSE FALSE  TRUE FALSE FALSE FALSE FALSE           Bang\n",
      "95   95 FALSE FALSE FALSE FALSE  TRUE  TRUE FALSE FALSE           Buzz\n",
      "96   96  TRUE FALSE  TRUE FALSE FALSE FALSE FALSE FALSE      Fizz Bang\n",
      "97   97 FALSE FALSE FALSE FALSE FALSE FALSE FALSE  TRUE            Foo\n",
      "98   98 FALSE FALSE FALSE FALSE FALSE FALSE  TRUE FALSE            Foo\n",
      "99   99  TRUE FALSE FALSE FALSE FALSE FALSE FALSE FALSE           Fizz\n",
      "100 100 FALSE FALSE  TRUE FALSE  TRUE FALSE FALSE FALSE      Bang Buzz\n"
     ]
    }
   ],
   "source": [
    "print(df1)"
   ]
  }
 ],
 "metadata": {
  "kernelspec": {
   "display_name": "R",
   "language": "R",
   "name": "ir"
  },
  "language_info": {
   "codemirror_mode": "r",
   "file_extension": ".r",
   "mimetype": "text/x-r-source",
   "name": "R",
   "pygments_lexer": "r",
   "version": "4.1.0"
  }
 },
 "nbformat": 4,
 "nbformat_minor": 5
}
